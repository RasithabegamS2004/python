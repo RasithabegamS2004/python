{
 "cells": [
  {
   "cell_type": "markdown",
   "id": "82715099",
   "metadata": {},
   "source": [
    "1. Write a program to find fibonacci using a dictionary concept.(create function)\n",
    "Sample Input: 10\n",
    "Sample Output: 55\n"
   ]
  },
  {
   "cell_type": "code",
   "execution_count": 1,
   "id": "de4210a6",
   "metadata": {},
   "outputs": [
    {
     "name": "stdout",
     "output_type": "stream",
     "text": [
      "Enter a number: 10\n",
      "Fibonacci number at position 10 : 55\n"
     ]
    }
   ],
   "source": [
    "def fibonacci_dict(n):\n",
    "    fib_dict = {}\n",
    "    \n",
    "    def fibonacci(n):\n",
    "        if n <= 1:\n",
    "            return n\n",
    "        \n",
    "        if n in fib_dict:\n",
    "            return fib_dict[n]\n",
    "        \n",
    "        fib_dict[n] = fibonacci(n - 1) + fibonacci(n - 2)\n",
    "        return fib_dict[n]\n",
    "    \n",
    "    return fibonacci(n)\n",
    "\n",
    "# Get the input number from the user\n",
    "n = int(input(\"Enter a number: \"))\n",
    "\n",
    "# Call the function to calculate the Fibonacci number\n",
    "fibonacci_number = fibonacci_dict(n)\n",
    "\n",
    "# Print the result\n",
    "print(\"Fibonacci number at position\", n, \":\", fibonacci_number)\n"
   ]
  },
  {
   "cell_type": "markdown",
   "id": "c8f30df6",
   "metadata": {},
   "source": [
    "Write a program that inverts a dictionary. I.e., it makes key of one dictionary value of\n",
    "another and vice versa\n",
    "Sample Input:\n",
    "Dict={‘Reg.No”:123, ‘Name’:’abc’,Course’:’CSE’}\n",
    "Sample Output:\n",
    "Inv Dict={123:’Reg.No’, ‘abc’ : ‘Name’, ‘CSE’: ‘Course’}"
   ]
  },
  {
   "cell_type": "code",
   "execution_count": 2,
   "id": "fbb546df",
   "metadata": {},
   "outputs": [
    {
     "name": "stdout",
     "output_type": "stream",
     "text": [
      "Inverted Dictionary: {123: 'Reg.No', 'abc': 'Name', 'CSE': 'Course'}\n"
     ]
    }
   ],
   "source": [
    "def invert_dictionary(dictionary):\n",
    "    inverted_dict = {value: key for key, value in dictionary.items()}\n",
    "    return inverted_dict\n",
    "\n",
    "# Given dictionary\n",
    "dictionary = {'Reg.No': 123, 'Name': 'abc', 'Course': 'CSE'}\n",
    "\n",
    "# Call the function to invert the dictionary\n",
    "inverted_dictionary = invert_dictionary(dictionary)\n",
    "\n",
    "# Print the result\n",
    "print(\"Inverted Dictionary:\", inverted_dictionary)\n"
   ]
  },
  {
   "cell_type": "markdown",
   "id": "52f6eca7",
   "metadata": {},
   "source": [
    "Given the dictionary that contains Key as “Cricketer Name”, and Value as dictionary\n",
    "of {Total Runs Conceded and Wickets} taken by 6 different players,\n",
    "Cricketer = {”VinayKumar”:{102,5},Yuzvendra Chahal : {89,10},Sandeep Sharma :\n",
    "{95,8}, Umesh Yadav : {85,6}, “BhuvaneswarKumar”:{106,10}, Basil Thampi : {70,5}}\n",
    "calculate the average bowling using below Formula\n",
    "Bowling Average = Total Runs Conceded / Total Wickets Taken\n",
    "Replace the key values with the calculated Bowling Average.\n",
    "Then sort the dictionary based on the Bowling Average.\n",
    "Output\n",
    "must be sorted based on the the value\n",
    "{”VinayKumar”:{20.4},Umesh Yadav : {14.6}, Basil Thampi : {14}, Sandeep Sharma :\n",
    "{11.85}, “BhuvaneswarKumar”:{10.6}, Yuzvendra Chahal : {8.9}}\n",
    "Sorted() function syntax to sort the value based on the key\n",
    "sorted_dict = sorted(dictionary.items(), key=lambda x: x[1])\n",
    "1st argument - dictionary.items() returns key,value pairs of the given dictionary\n",
    "2nd argument - key parameter -> set to lambda x:x[1] refer to the value in pair\n",
    "therefore the dictionary will be sorted based on the value."
   ]
  },
  {
   "cell_type": "code",
   "execution_count": 4,
   "id": "5e34f41a",
   "metadata": {},
   "outputs": [
    {
     "name": "stdout",
     "output_type": "stream",
     "text": [
      "Sorted Dictionary based on Bowling Average: {'Basil Thampi': 14.0, 'BhuvaneswarKumar': 10.6, 'Sandeep Sharma': 11.88, 'Umesh Yadav': 14.17, 'VinayKumar': 20.4, 'Yuzvendra Chahal': 8.9}\n"
     ]
    }
   ],
   "source": [
    "def calculate_bowling_average(cricket_dict):\n",
    "    for cricketer, stats in cricket_dict.items():\n",
    "        runs_conceded, wickets = stats\n",
    "        bowling_average = runs_conceded / wickets\n",
    "        cricket_dict[cricketer] = round(bowling_average, 2)\n",
    "    sorted_dict = dict(sorted(cricket_dict.items(), key=lambda x: x[0]))\n",
    "    return sorted_dict\n",
    "\n",
    "# Given dictionary\n",
    "cricket_dict = {\n",
    "    'VinayKumar': [102, 5],\n",
    "    'Yuzvendra Chahal': [89, 10],\n",
    "    'Sandeep Sharma': [95, 8],\n",
    "    'Umesh Yadav': [85, 6],\n",
    "    'BhuvaneswarKumar': [106, 10],\n",
    "    'Basil Thampi': [70, 5]\n",
    "}\n",
    "\n",
    "# Call the function to calculate the bowling average and sort the dictionary\n",
    "sorted_dict = calculate_bowling_average(cricket_dict)\n",
    "\n",
    "# Print the result\n",
    "print(\"Sorted Dictionary based on Bowling Average:\", sorted_dict)\n"
   ]
  },
  {
   "cell_type": "markdown",
   "id": "40835e24",
   "metadata": {},
   "source": [
    "# next programs"
   ]
  },
  {
   "cell_type": "code",
   "execution_count": null,
   "id": "2fafebe2",
   "metadata": {},
   "outputs": [],
   "source": [
    "Write a python program to generate the following dictionary\n",
    "Num = { 1 : 1, 2 : 8, 3 : 27, 4 : 64, 5 : 125 ….. , 20 : 8000}\n"
   ]
  },
  {
   "cell_type": "code",
   "execution_count": 1,
   "id": "41698534",
   "metadata": {},
   "outputs": [
    {
     "name": "stdout",
     "output_type": "stream",
     "text": [
      "{1: 1, 2: 8, 3: 27, 4: 64, 5: 125, 6: 216, 7: 343, 8: 512, 9: 729, 10: 1000, 11: 1331, 12: 1728, 13: 2197, 14: 2744, 15: 3375, 16: 4096, 17: 4913, 18: 5832, 19: 6859, 20: 8000}\n"
     ]
    }
   ],
   "source": [
    "# Generate the dictionary using dictionary comprehension\n",
    "num = {i: i**3 for i in range(1, 21)}\n",
    "\n",
    "# Print the resulting dictionary\n",
    "print(num)\n"
   ]
  },
  {
   "cell_type": "code",
   "execution_count": null,
   "id": "b5dce25d",
   "metadata": {},
   "outputs": [],
   "source": [
    "Write a program that inverts a dictionary. I.e., it makes key of one dictionary value of\n",
    "another and vice versa\n",
    "Sample Input:\n",
    "Dict={‘Reg.No”:123, ‘Name’:’abc’,Course’:’CSE’}\n",
    "Sample Output:\n",
    "Inv Dict={123:’Reg.No’, ‘abc’ : ‘Name’, ‘CSE’: ‘Course’}"
   ]
  },
  {
   "cell_type": "code",
   "execution_count": 2,
   "id": "ab2522a7",
   "metadata": {},
   "outputs": [
    {
     "name": "stdout",
     "output_type": "stream",
     "text": [
      "Inv Dict = {123: 'Reg.No', 'abc': 'Name', 'CSE': 'Course'}\n"
     ]
    }
   ],
   "source": [
    "def invert_dictionary(input_dict):\n",
    "    inverted_dict = {value: key for key, value in input_dict.items()}\n",
    "    return inverted_dict\n",
    "\n",
    "# Sample Input\n",
    "Dict = {'Reg.No': 123, 'Name': 'abc', 'Course': 'CSE'}\n",
    "\n",
    "# Invert the dictionary\n",
    "inv_dict = invert_dictionary(Dict)\n",
    "\n",
    "# Print the resulting inverted dictionary\n",
    "print(\"Inv Dict =\", inv_dict)\n"
   ]
  },
  {
   "cell_type": "code",
   "execution_count": null,
   "id": "957c6c12",
   "metadata": {},
   "outputs": [],
   "source": [
    "Generate a dictionary where keys are numbers and values consist of a set of its\n",
    "factors in a specified range.\n",
    "Factors = {1:{1} , 2:{1,2}, 3: {1,3}, 4:{1,2,4} , 5:{1,5}, 6:{1,2,3,6}, 7:{1,7}, 8:{1,2,4,8},\n",
    "9:{1,3,9,}}"
   ]
  },
  {
   "cell_type": "code",
   "execution_count": 3,
   "id": "994b01e4",
   "metadata": {},
   "outputs": [
    {
     "name": "stdout",
     "output_type": "stream",
     "text": [
      "Factors = {1: {1}, 2: {1, 2}, 3: {1, 3}, 4: {1, 2, 4}, 5: {1, 5}, 6: {1, 2, 3, 6}, 7: {1, 7}, 8: {8, 1, 2, 4}, 9: {1, 3, 9}}\n"
     ]
    }
   ],
   "source": [
    "def generate_factors_dict(start, end):\n",
    "    factors_dict = {}\n",
    "    for num in range(start, end + 1):\n",
    "        factors = {i for i in range(1, num + 1) if num % i == 0}\n",
    "        factors_dict[num] = factors\n",
    "    return factors_dict\n",
    "\n",
    "# Sample Input Range\n",
    "start_range = 1\n",
    "end_range = 9\n",
    "\n",
    "# Generate the factors dictionary\n",
    "factors_dict = generate_factors_dict(start_range, end_range)\n",
    "\n",
    "# Print the resulting factors dictionary\n",
    "print(\"Factors =\", factors_dict)\n"
   ]
  },
  {
   "cell_type": "code",
   "execution_count": null,
   "id": "dcd3d35c",
   "metadata": {},
   "outputs": [],
   "source": [
    "Assume that the below dictionary\n",
    "Digit_word = { 1 : “One”, 2 : “Two” , 3 : “Three” , 4 : “Four” , 5 : “Five” , 6 : “Six” , 7 :\n",
    "“Seven” , 8 : “Eight” , 9 : “Nine”}\n",
    "Read the integer from the user and display it in words by considering the above\n",
    "dictionary.\n",
    "Sample Input\n",
    "324\n",
    "Sample Output\n",
    "Three Two Four"
   ]
  },
  {
   "cell_type": "code",
   "execution_count": 5,
   "id": "76d86b89",
   "metadata": {},
   "outputs": [
    {
     "name": "stdout",
     "output_type": "stream",
     "text": [
      "Enter an integer number: 324\n",
      "Sample Output:\n",
      "Three Two Four\n"
     ]
    }
   ],
   "source": [
    "def number_to_words(num, digit_word_dict):\n",
    "    words = [digit_word_dict[int(digit)] for digit in str(num)]\n",
    "    return ' '.join(words)\n",
    "\n",
    "# Given dictionary\n",
    "Digit_word = {\n",
    "    1: \"One\", 2: \"Two\", 3: \"Three\", 4: \"Four\",\n",
    "    5: \"Five\", 6: \"Six\", 7: \"Seven\", 8: \"Eight\", 9: \"Nine\"\n",
    "}\n",
    "\n",
    "# Sample Input\n",
    "try:\n",
    "    number = int(input(\"Enter an integer number: \"))\n",
    "    if number < 0:\n",
    "        raise ValueError\n",
    "    result = number_to_words(number, Digit_word)\n",
    "    print(\"Sample Output:\")\n",
    "    print(result)\n",
    "except ValueError:\n",
    "    print(\"Invalid input! Please enter a non-negative integer.\")\n"
   ]
  },
  {
   "cell_type": "markdown",
   "id": "37381e71",
   "metadata": {},
   "source": [
    "Given the dictionary that contains Key as “Cricketer Name”, and Value as dictionary\n",
    "of {Total Runs Conceded and Wickets} taken by 6 different players,\n",
    "Cricketer = {”VinayKumar”:{102,5},Yuzvendra Chahal : {89,10}, Sandeep Sharma :\n",
    "{95,8}, Umesh Yadav : {85,6}, “BhuvaneswarKumar”:{106,10}, Basil Thampi : {70,5}}\n",
    "calculate the average bowling score using below Formula\n",
    "Bowling Average = Total Runs Conceded / Total Wickets Taken\n",
    "Replace the key values with the calculated Bowling Average.\n",
    "Then sort the dictionary based on the Bowling Average.\n",
    "Output\n",
    "must be sorted based on the the value\n",
    "{”VinayKumar”:{20.4},Umesh Yadav : {14.6}, Basil Thampi : {14}, Sandeep Sharma :\n",
    "{11.85}, “BhuvaneswarKumar”:{10.6}, Yuzvendra Chahal : {8.9}}\n",
    "Sorted() function syntax to sort the value based on the key\n",
    "sorted_dict = sorted(dictionary.items(), key=lambda x: x[1])\n",
    "1st argument - dictionary.items() returns key,value pairs of the given dictionary\n",
    "2nd argument - key parameter -> set to lambda x:x[1] refer to the value in pair\n",
    "therefore the dictionary will be sorted based on the value."
   ]
  },
  {
   "cell_type": "code",
   "execution_count": 7,
   "id": "259f8ff3",
   "metadata": {},
   "outputs": [
    {
     "name": "stdout",
     "output_type": "stream",
     "text": [
      "{'VinayKumar': {'Bowling Average': 20.4}, 'Umesh Yadav': {'Bowling Average': 14.17}, 'Basil Thampi': {'Bowling Average': 14.0}, 'Sandeep Sharma': {'Bowling Average': 11.88}, 'BhuvaneswarKumar': {'Bowling Average': 10.6}, 'Yuzvendra Chahal': {'Bowling Average': 8.9}}\n"
     ]
    }
   ],
   "source": [
    "def calculate_bowling_average(player_data):\n",
    "    bowling_average_dict = {}\n",
    "    for player, data in player_data.items():\n",
    "        total_runs_conceded, wickets = data\n",
    "        bowling_average = round(total_runs_conceded / wickets, 2)\n",
    "        bowling_average_dict[player] = bowling_average\n",
    "    return bowling_average_dict\n",
    "\n",
    "# Given cricketer data\n",
    "Cricketer = {\n",
    "    \"VinayKumar\": (102, 5),\n",
    "    \"Yuzvendra Chahal\": (89, 10),\n",
    "    \"Sandeep Sharma\": (95, 8),\n",
    "    \"Umesh Yadav\": (85, 6),\n",
    "    \"BhuvaneswarKumar\": (106, 10),\n",
    "    \"Basil Thampi\": (70, 5)\n",
    "}\n",
    "\n",
    "# Calculate bowling averages\n",
    "bowling_average_dict = calculate_bowling_average(Cricketer)\n",
    "\n",
    "# Sort the dictionary based on the bowling averages\n",
    "sorted_bowling_average = sorted(bowling_average_dict.items(), key=lambda x: x[1], reverse=True)\n",
    "\n",
    "# Create the final sorted dictionary with bowling averages\n",
    "sorted_bowling_average_dict = {player: {\"Bowling Average\": average} for player, average in sorted_bowling_average}\n",
    "\n",
    "# Print the resulting sorted dictionary\n",
    "print(sorted_bowling_average_dict)\n"
   ]
  },
  {
   "cell_type": "code",
   "execution_count": null,
   "id": "32b94126",
   "metadata": {},
   "outputs": [],
   "source": []
  }
 ],
 "metadata": {
  "kernelspec": {
   "display_name": "Python 3 (ipykernel)",
   "language": "python",
   "name": "python3"
  },
  "language_info": {
   "codemirror_mode": {
    "name": "ipython",
    "version": 3
   },
   "file_extension": ".py",
   "mimetype": "text/x-python",
   "name": "python",
   "nbconvert_exporter": "python",
   "pygments_lexer": "ipython3",
   "version": "3.10.9"
  }
 },
 "nbformat": 4,
 "nbformat_minor": 5
}
