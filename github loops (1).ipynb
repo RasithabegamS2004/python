{
 "cells": [
  {
   "cell_type": "markdown",
   "id": "2071a0f4",
   "metadata": {},
   "source": [
    "Write a program to display the count of even and odd numbers in a given range.\n",
    "Sample Input\n",
    "Start: 20\n",
    "End : 50\n",
    "(inclusive of 20 and 50)\n",
    "Sample Output:\n",
    "Even : 16\n",
    "Odd : 15"
   ]
  },
  {
   "cell_type": "code",
   "execution_count": 3,
   "id": "d04e19e2",
   "metadata": {},
   "outputs": [
    {
     "name": "stdout",
     "output_type": "stream",
     "text": [
      "Enter the start number: 2\n",
      "Enter the end number: 22\n",
      "Even: 11\n",
      "Odd: 10\n"
     ]
    }
   ],
   "source": [
    "def count_even_odd_numbers(start, end):\n",
    "    count_even = 0\n",
    "    count_odd = 0\n",
    "\n",
    "    for num in range(start, end+1):\n",
    "        if num % 2 == 0:\n",
    "            count_even += 1\n",
    "        else:\n",
    "            count_odd += 1\n",
    "\n",
    "    return count_even, count_odd\n",
    "\n",
    "# Get the input values for start and end\n",
    "start = int(input(\"Enter the start number: \"))\n",
    "end = int(input(\"Enter the end number: \"))\n",
    "\n",
    "# Call the function to count even and odd numbers\n",
    "count_even, count_odd = count_even_odd_numbers(start, end)\n",
    "\n",
    "# Print the result\n",
    "print(\"Even:\", count_even)\n",
    "print(\"Odd:\", count_odd)\n"
   ]
  },
  {
   "cell_type": "markdown",
   "id": "f01aa547",
   "metadata": {},
   "source": [
    "Write a program to display the factors of a given number.\n",
    "Sample Input\n",
    "56\n",
    "Sample output\n",
    "1, 2, 4, 7, 8, 14, 28, 56"
   ]
  },
  {
   "cell_type": "code",
   "execution_count": 4,
   "id": "83dcdea5",
   "metadata": {},
   "outputs": [
    {
     "name": "stdout",
     "output_type": "stream",
     "text": [
      "Enter a number: 52\n",
      "Factors of 52 : [1, 2, 4, 13, 26, 52]\n"
     ]
    }
   ],
   "source": [
    "def find_factors(number):\n",
    "    factors = []\n",
    "    for i in range(1, number+1):\n",
    "        if number % i == 0:\n",
    "            factors.append(i)\n",
    "    return factors\n",
    "\n",
    "# Get the input number\n",
    "number = int(input(\"Enter a number: \"))\n",
    "\n",
    "# Call the function to find the factors\n",
    "factors = find_factors(number)\n",
    "\n",
    "# Print the result\n",
    "print(\"Factors of\", number, \":\", factors)\n"
   ]
  },
  {
   "cell_type": "markdown",
   "id": "a26a881d",
   "metadata": {},
   "source": [
    "3. Write a program to display the prime in the given range.\n",
    "Sample Input\n",
    "1\n",
    "10\n",
    "Sample Output\n",
    "2 , 3 , 5 , 7\n"
   ]
  },
  {
   "cell_type": "code",
   "execution_count": 5,
   "id": "8a8b3cd8",
   "metadata": {},
   "outputs": [
    {
     "name": "stdout",
     "output_type": "stream",
     "text": [
      "Enter the start number: 23\n",
      "Enter the end number: 46\n",
      "Prime numbers in the range 23 to 46 : [23, 29, 31, 37, 41, 43]\n"
     ]
    }
   ],
   "source": [
    "def is_prime(number):\n",
    "    if number < 2:\n",
    "        return False\n",
    "    for i in range(2, int(number**0.5) + 1):\n",
    "        if number % i == 0:\n",
    "            return False\n",
    "    return True\n",
    "\n",
    "# Get the input range\n",
    "start = int(input(\"Enter the start number: \"))\n",
    "end = int(input(\"Enter the end number: \"))\n",
    "\n",
    "# Find and display the prime numbers\n",
    "prime_numbers = []\n",
    "for num in range(start, end+1):\n",
    "    if is_prime(num):\n",
    "        prime_numbers.append(num)\n",
    "\n",
    "print(\"Prime numbers in the range\", start, \"to\", end, \":\", prime_numbers)\n"
   ]
  },
  {
   "cell_type": "markdown",
   "id": "d2dd69fe",
   "metadata": {},
   "source": [
    "4. Write a program to display the multiplication table as below\n",
    "Sample Input\n",
    "5\n",
    "Sample Output\n",
    "5 * 1 = 5\n",
    "5 * 2 = 10\n",
    ".\n",
    ".\n",
    "5 * 10 = 50"
   ]
  },
  {
   "cell_type": "code",
   "execution_count": 6,
   "id": "a25011e1",
   "metadata": {},
   "outputs": [
    {
     "name": "stdout",
     "output_type": "stream",
     "text": [
      "Enter a number: 5\n",
      "5 * 1 = 5\n",
      "5 * 2 = 10\n",
      "5 * 3 = 15\n",
      "5 * 4 = 20\n",
      "5 * 5 = 25\n",
      "5 * 6 = 30\n",
      "5 * 7 = 35\n",
      "5 * 8 = 40\n",
      "5 * 9 = 45\n",
      "5 * 10 = 50\n"
     ]
    }
   ],
   "source": [
    "def multiplication_table(number):\n",
    "    for i in range(1, 11):\n",
    "        result = number * i\n",
    "        print(f\"{number} * {i} = {result}\")\n",
    "\n",
    "# Get the input number\n",
    "number = int(input(\"Enter a number: \"))\n",
    "\n",
    "# Call the function to display the multiplication table\n",
    "multiplication_table(number)\n"
   ]
  },
  {
   "cell_type": "markdown",
   "id": "882a8702",
   "metadata": {},
   "source": [
    "Write a program to display the multiplication table as below with a given range\n",
    "Sample Input\n",
    "Start Table : 5\n",
    "End Table: 8\n",
    "Sample Output\n",
    "5 * 1 = 5 6 * 1 = 6 7 *1 = 7 8*1 = 8\n",
    "5 * 2 = 10 6*2 = 12 7*2=14 8*2= 16\n",
    ".\n",
    ".\n",
    "5 * 10 = 50\n"
   ]
  },
  {
   "cell_type": "code",
   "execution_count": 7,
   "id": "d642e67e",
   "metadata": {},
   "outputs": [
    {
     "name": "stdout",
     "output_type": "stream",
     "text": [
      "Enter the start table: 5\n",
      "Enter the end table: 8\n",
      "5 * 1 = 5 6 * 1 = 6 7 * 1 = 7 8 * 1 = 8 \n",
      "5 * 2 = 10 6 * 2 = 12 7 * 2 = 14 8 * 2 = 16 \n",
      "5 * 3 = 15 6 * 3 = 18 7 * 3 = 21 8 * 3 = 24 \n",
      "5 * 4 = 20 6 * 4 = 24 7 * 4 = 28 8 * 4 = 32 \n",
      "5 * 5 = 25 6 * 5 = 30 7 * 5 = 35 8 * 5 = 40 \n",
      "5 * 6 = 30 6 * 6 = 36 7 * 6 = 42 8 * 6 = 48 \n",
      "5 * 7 = 35 6 * 7 = 42 7 * 7 = 49 8 * 7 = 56 \n",
      "5 * 8 = 40 6 * 8 = 48 7 * 8 = 56 8 * 8 = 64 \n",
      "5 * 9 = 45 6 * 9 = 54 7 * 9 = 63 8 * 9 = 72 \n",
      "5 * 10 = 50 6 * 10 = 60 7 * 10 = 70 8 * 10 = 80 \n"
     ]
    }
   ],
   "source": [
    "def multiplication_table(start, end):\n",
    "    for i in range(1, 11):\n",
    "        for j in range(start, end+1):\n",
    "            result = j * i\n",
    "            print(f\"{j} * {i} = {result}\", end=\" \")\n",
    "        print()\n",
    "\n",
    "# Get the input range\n",
    "start = int(input(\"Enter the start table: \"))\n",
    "end = int(input(\"Enter the end table: \"))\n",
    "\n",
    "# Call the function to display the multiplication table\n",
    "multiplication_table(start, end)\n"
   ]
  },
  {
   "cell_type": "code",
   "execution_count": null,
   "id": "1afdafc1",
   "metadata": {},
   "outputs": [],
   "source": [
    "6. Write a program to display the multiplication table as below with a given range\n",
    "Sample Input\n",
    "Start Table : 5\n",
    "End Table: 8\n",
    "Sample Output:\n",
    "5*1 = 5\n",
    ".\n",
    ".\n",
    "5 * 5 = 25\n",
    "6*1 = 6\n",
    ".\n",
    ".\n",
    ".\n",
    "6*6=36\n",
    "7*1=7\n",
    ".\n",
    ".\n",
    ".\n",
    "7*7=49\n",
    "8*1=8\n",
    ".\n",
    ".\n",
    "8*8=64"
   ]
  },
  {
   "cell_type": "code",
   "execution_count": 10,
   "id": "78fdfd0f",
   "metadata": {},
   "outputs": [
    {
     "name": "stdout",
     "output_type": "stream",
     "text": [
      "Enter the start table: 5\n",
      "Enter the end table: 8\n",
      "5*1 = 5\n",
      "5*2 = 10\n",
      "5*3 = 15\n",
      "5*4 = 20\n",
      "5*5 = 25\n",
      "\n",
      "6*1 = 6\n",
      "6*2 = 12\n",
      "6*3 = 18\n",
      "6*4 = 24\n",
      "6*5 = 30\n",
      "6*6 = 36\n",
      "\n",
      "7*1 = 7\n",
      "7*2 = 14\n",
      "7*3 = 21\n",
      "7*4 = 28\n",
      "7*5 = 35\n",
      "7*6 = 42\n",
      "7*7 = 49\n",
      "\n",
      "8*1 = 8\n",
      "8*2 = 16\n",
      "8*3 = 24\n",
      "8*4 = 32\n",
      "8*5 = 40\n",
      "8*6 = 48\n",
      "8*7 = 56\n",
      "8*8 = 64\n",
      "\n"
     ]
    }
   ],
   "source": [
    "def multiplication_table(start, end):\n",
    "    for i in range(start, end+1):\n",
    "        for j in range(1, i+1):\n",
    "            print(f\"{i}*{j} = {i*j}\")\n",
    "        print()\n",
    "\n",
    "# Get the input range\n",
    "start = int(input(\"Enter the start table: \"))\n",
    "end = int(input(\"Enter the end table: \"))\n",
    "\n",
    "# Call the function to display the multiplication table\n",
    "multiplication_table(start, end)\n"
   ]
  },
  {
   "cell_type": "markdown",
   "id": "a067422c",
   "metadata": {},
   "source": [
    "Write a program that displays a temperature conversion table for degrees Celsius\n",
    "and degrees Fahrenheit. The table should include rows for all temperatures\n",
    "between 0 and 100 degrees Celsius that are multiples of 10 degrees Celsius.\n",
    "Include appropriate headings on your columns. The formula for converting\n",
    "between degrees Celsius and degrees Fahrenheit\n",
    "Sample Output\n",
    "Celsius Fahrenheit\n",
    "0 32.0\n",
    "10 50.0\n",
    "20 68.0\n",
    "30 86.0\n",
    "40 104.0\n",
    "50 122.0\n",
    "60 140.0\n",
    "70 158.0\n",
    "50 176.0\n",
    "90 194.0\n",
    "100 212.0"
   ]
  },
  {
   "cell_type": "code",
   "execution_count": 11,
   "id": "6c042925",
   "metadata": {},
   "outputs": [
    {
     "name": "stdout",
     "output_type": "stream",
     "text": [
      "Celsius\tFahrenheit\n",
      "------------------\n",
      "0\t32.0\n",
      "10\t50.0\n",
      "20\t68.0\n",
      "30\t86.0\n",
      "40\t104.0\n",
      "50\t122.0\n",
      "60\t140.0\n",
      "70\t158.0\n",
      "80\t176.0\n",
      "90\t194.0\n",
      "100\t212.0\n"
     ]
    }
   ],
   "source": [
    "def celsius_to_fahrenheit(celsius):\n",
    "    return (celsius * 9/5) + 32\n",
    "\n",
    "# Display table headings\n",
    "print(\"Celsius\\tFahrenheit\")\n",
    "print(\"------------------\")\n",
    "\n",
    "# Display temperature conversion table\n",
    "for celsius in range(0, 101, 10):\n",
    "    fahrenheit = celsius_to_fahrenheit(celsius)\n",
    "    print(f\"{celsius}\\t{fahrenheit:.1f}\")\n"
   ]
  },
  {
   "cell_type": "code",
   "execution_count": null,
   "id": "afbd9b32",
   "metadata": {},
   "outputs": [],
   "source": [
    "Write a program to display the Amstrong numbers in the given range\n",
    "Enter lower range: 100\n",
    "Enter upper range: 1000\n",
    "The armstrong numbers are:\n",
    "153\n",
    "370\n",
    "371\n",
    "407"
   ]
  },
  {
   "cell_type": "code",
   "execution_count": 14,
   "id": "d157ef2c",
   "metadata": {},
   "outputs": [
    {
     "name": "stdout",
     "output_type": "stream",
     "text": [
      "Enter lower range: 2\n",
      "Enter upper range: 20\n",
      "The Armstrong numbers are:\n",
      "2\n",
      "3\n",
      "4\n",
      "5\n",
      "6\n",
      "7\n",
      "8\n",
      "9\n"
     ]
    }
   ],
   "source": [
    "def is_armstrong_number(number):\n",
    "    # Convert the number to a string to iterate over its digits\n",
    "    num_str = str(number)\n",
    "    \n",
    "    # Calculate the number of digits\n",
    "    num_digits = len(num_str)\n",
    "    \n",
    "    # Calculate the sum of the cubes of each digit\n",
    "    sum_of_cubes = sum(int(digit) ** num_digits for digit in num_str)\n",
    "    \n",
    "    # Check if the sum is equal to the original number\n",
    "    return sum_of_cubes == number\n",
    "\n",
    "# Get the lower and upper range from the user\n",
    "lower_range = int(input(\"Enter lower range: \"))\n",
    "upper_range = int(input(\"Enter upper range: \"))\n",
    "\n",
    "# Display the Armstrong numbers within the range\n",
    "print(\"The Armstrong numbers are:\")\n",
    "for number in range(lower_range, upper_range + 1):\n",
    "    if is_armstrong_number(number):\n",
    "        print(number)\n"
   ]
  },
  {
   "cell_type": "code",
   "execution_count": null,
   "id": "ce618f49",
   "metadata": {},
   "outputs": [],
   "source": [
    "Write a program to accept the numbers continuously; when we enter\"-1” it should\n",
    "stop accepting the input and at the same time display the number of even numbers\n",
    "and odd numbers that were entered.\n",
    "Sample Input\n",
    "Enter the number = 56\n",
    "Enter the number = 5\n",
    "Enter the number = 26\n",
    "Enter the number = 45\n",
    "Enter the number = 13\n",
    "Enter the number = 11\n",
    "Enter the number = 16\n",
    "Enter the number = 19\n",
    "Enter the number = 48\n",
    "Enter the number = -1\n",
    "Sample Output\n",
    "Number of Even Numbers Entered = 4\n",
    "Number of Odd Numbers Entered = 5"
   ]
  },
  {
   "cell_type": "code",
   "execution_count": 15,
   "id": "ba72c939",
   "metadata": {},
   "outputs": [
    {
     "name": "stdout",
     "output_type": "stream",
     "text": [
      "Enter the number: 12\n",
      "Enter the number: 32\n",
      "Enter the number: 23\n",
      "Enter the number: -1\n",
      "Number of Even Numbers Entered = 2\n",
      "Number of Odd Numbers Entered = 1\n"
     ]
    }
   ],
   "source": [
    "even_count = 0\n",
    "odd_count = 0\n",
    "\n",
    "while True:\n",
    "    number = int(input(\"Enter the number: \"))\n",
    "    \n",
    "    if number == -1:\n",
    "        break\n",
    "    \n",
    "    if number % 2 == 0:\n",
    "        even_count += 1\n",
    "    else:\n",
    "        odd_count += 1\n",
    "\n",
    "print(\"Number of Even Numbers Entered =\", even_count)\n",
    "print(\"Number of Odd Numbers Entered =\", odd_count)\n"
   ]
  },
  {
   "cell_type": "code",
   "execution_count": null,
   "id": "6f7eb4df",
   "metadata": {},
   "outputs": [],
   "source": []
  },
  {
   "cell_type": "code",
   "execution_count": null,
   "id": "caa2174f",
   "metadata": {},
   "outputs": [],
   "source": []
  }
 ],
 "metadata": {
  "kernelspec": {
   "display_name": "Python 3 (ipykernel)",
   "language": "python",
   "name": "python3"
  },
  "language_info": {
   "codemirror_mode": {
    "name": "ipython",
    "version": 3
   },
   "file_extension": ".py",
   "mimetype": "text/x-python",
   "name": "python",
   "nbconvert_exporter": "python",
   "pygments_lexer": "ipython3",
   "version": "3.10.9"
  }
 },
 "nbformat": 4,
 "nbformat_minor": 5
}
