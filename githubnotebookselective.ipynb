{
 "cells": [
  {
   "cell_type": "markdown",
   "id": "b4ddf5a7",
   "metadata": {},
   "source": [
    "#                                Github programmes"
   ]
  },
  {
   "cell_type": "code",
   "execution_count": 2,
   "id": "49c7f44c",
   "metadata": {},
   "outputs": [],
   "source": [
    "x=20\n",
    "y=10\n",
    "u=(abs(x-y))\n",
    "v=x+y\n",
    "z=u*v"
   ]
  },
  {
   "cell_type": "code",
   "execution_count": 3,
   "id": "436800ca",
   "metadata": {},
   "outputs": [
    {
     "name": "stdout",
     "output_type": "stream",
     "text": [
      "enter the radius:6\n",
      "enter the height:6\n",
      "452.15999999999997\n",
      "678.24\n"
     ]
    }
   ],
   "source": [
    "r=int(input(\"enter the radius:\"))\n",
    "h=int(input(\"enter the height:\"))\n",
    "volume=3.14*r*r*h\n",
    "surface_area=((2*3.14*r)*h) + ((3.14*r**2)*2)\n",
    "print(surface_area)\n",
    "print(volume)"
   ]
  },
  {
   "cell_type": "code",
   "execution_count": 4,
   "id": "dc15e416",
   "metadata": {},
   "outputs": [
    {
     "name": "stdout",
     "output_type": "stream",
     "text": [
      "enter temperature in degree celcius22\n",
      "enter wind speed km3\n",
      "24\n"
     ]
    }
   ],
   "source": [
    "t=int(input(\"enter temperature in degree celcius\"))\n",
    "v=int(input(\"enter wind speed km\"))\n",
    "s=13.12 + 0.6215*t - 11.37*v**0.16 + 0.3965*t*v**0.16\n",
    "print(round(s))"
   ]
  },
  {
   "cell_type": "code",
   "execution_count": 5,
   "id": "831a876e",
   "metadata": {},
   "outputs": [
    {
     "name": "stdout",
     "output_type": "stream",
     "text": [
      "enter the num:5\n",
      "number is positive\n"
     ]
    }
   ],
   "source": [
    "a=int(input(\"enter the num:\"))\n",
    "if(a>0):\n",
    "    print(\"number is positive\")\n",
    "if(a<0):\n",
    "    print(\"number is negative\")\n",
    "if(a==0):\n",
    "    print(\"zero\")\n",
    " "
   ]
  },
  {
   "cell_type": "code",
   "execution_count": 6,
   "id": "53d3dfab",
   "metadata": {},
   "outputs": [
    {
     "name": "stdout",
     "output_type": "stream",
     "text": [
      "enter the first side:2\n",
      "enter the second side:3\n",
      "enter the third side:4\n",
      "the triangle is possible\n"
     ]
    }
   ],
   "source": [
    "a=int(input(\"enter the first side:\"))\n",
    "b=int(input(\"enter the second side:\"))\n",
    "c=int(input(\"enter the third side:\"))\n",
    "if((a+b>c)and(b+c>a)and(a+c>b)):\n",
    "    print(\"the triangle is possible\")\n",
    "else:\n",
    "    print(\"the triangle is not possible\")\n",
    "    \n",
    "    "
   ]
  },
  {
   "cell_type": "code",
   "execution_count": 7,
   "id": "6bd4c55f",
   "metadata": {},
   "outputs": [
    {
     "name": "stdout",
     "output_type": "stream",
     "text": [
      "enter the number:6\n",
      "enter the power:3\n",
      "the nth power of a no is odd:\n"
     ]
    }
   ],
   "source": [
    "num=int(input(\"enter the number:\"))\n",
    "power=int(input(\"enter the power:\"))\n",
    "if(power%2==0):\n",
    "    print(\"the nth power of a no is even:\")\n",
    "else:\n",
    "    print(\"the nth power of a no is odd:\")\n",
    "    \n",
    "    \n",
    "          "
   ]
  },
  {
   "cell_type": "code",
   "execution_count": 1,
   "id": "64b24d11",
   "metadata": {},
   "outputs": [
    {
     "name": "stdout",
     "output_type": "stream",
     "text": [
      "enter the date:04\n",
      "enter the month:10\n",
      "enter the year:2004\n",
      "the fare will be 1020\n"
     ]
    }
   ],
   "source": [
    "date=int(input(\"enter the date:\"))\n",
    "month=int(input(\"enter the month:\"))\n",
    "year=int(input(\"enter the year:\"))\n",
    "age=2023-year\n",
    "if(age>60):\n",
    "          print(\"the fare will be\",1020-1020*(20/100))\n",
    "          \n",
    "else:\n",
    "    print(\"the fare will be\",1020)\n",
    "                "
   ]
  },
  {
   "cell_type": "code",
   "execution_count": 2,
   "id": "99eea215",
   "metadata": {},
   "outputs": [
    {
     "name": "stdout",
     "output_type": "stream",
     "text": [
      "Enter the first number: 3\n",
      "Enter the second number: 4\n",
      "Enter the third number: 5\n",
      "1\n"
     ]
    }
   ],
   "source": [
    "def is_pythagorean_triple(n1, n2, n3):\n",
    "    if (n1**2 + n2**2 == n3**2):\n",
    "        return 1\n",
    "    else:\n",
    "        return 0\n",
    "\n",
    "n1 = int(input(\"Enter the first number: \"))\n",
    "n2 = int(input(\"Enter the second number: \"))\n",
    "n3 = int(input(\"Enter the third number: \"))\n",
    "\n",
    "result = is_pythagorean_triple(n1, n2, n3)\n",
    "print(result)"
   ]
  },
  {
   "cell_type": "code",
   "execution_count": 3,
   "id": "33abf04b",
   "metadata": {},
   "outputs": [
    {
     "name": "stdout",
     "output_type": "stream",
     "text": [
      "enter the namerasitha\n",
      "enter the age18\n",
      "enter the weight55\n",
      "0\n"
     ]
    }
   ],
   "source": [
    "name=input(\"enter the name\")\n",
    "age=int(input(\"enter the age\"))\n",
    "weight=float(input(\"enter the weight\"))\n",
    "if(age>18)and(weight>40):\n",
    "             print(\"1\")\n",
    "else:\n",
    "    print(\"0\")"
   ]
  },
  {
   "cell_type": "code",
   "execution_count": null,
   "id": "6c5b3195",
   "metadata": {},
   "outputs": [
    {
     "name": "stdout",
     "output_type": "stream",
     "text": [
      "enter the salary5000\n"
     ]
    }
   ],
   "source": [
    "salary=int(input(\"enter the salary\"))\n",
    "year=int(input(\"enter the year service\"))\n",
    "if(year>10):\n",
    "    print(\"the bonus is\",salary-salary*(10/100))\n",
    "if(year>6)and(year<10):\n",
    "    print(\"the bonus is\",salary-salary*(8/100))\n",
    "else:\n",
    "    print(\"the bonus is\",salary-salary*(5/100))"
   ]
  },
  {
   "cell_type": "code",
   "execution_count": 5,
   "id": "96c1c0e4",
   "metadata": {},
   "outputs": [
    {
     "name": "stdout",
     "output_type": "stream",
     "text": [
      "enter the name:rasitha\n",
      "enter the age18\n",
      "enter the genderF\n",
      "no of days60\n",
      "the wages will be 45000\n"
     ]
    }
   ],
   "source": [
    "name=input(\"enter the name:\")\n",
    "age=int(input(\"enter the age\"))\n",
    "gender=input(\"enter the gender\")\n",
    "g=gender.upper()\n",
    "days=int(input(\"no of days\"))\n",
    "if(age>=18)and(age<30)and(gender==\"M\"):\n",
    "    print(\"the wages will be\",days*700)\n",
    "if(age>=18)and(age<30)and(gender==\"F\"):\n",
    "    print(\"the wages will be\",days*750)\n",
    "if(age>=30)and(age<=40)and(gender==\"M\"):\n",
    "    print(\"the wages will be\",days*800)\n",
    "if(age>=30)and(age<=40)and(gender==\"F\"):\n",
    "    print(\"the wages will be\",days*800)\n",
    "    "
   ]
  },
  {
   "cell_type": "code",
   "execution_count": 6,
   "id": "b9ad4164",
   "metadata": {},
   "outputs": [
    {
     "name": "stdout",
     "output_type": "stream",
     "text": [
      "enter the bill amount1800\n",
      "enter the food rating5\n",
      "enter the service rating5\n",
      "enter the ambience rating5\n",
      "the tip is 90.0\n"
     ]
    }
   ],
   "source": [
    "bill=int(input(\"enter the bill amount\"))\n",
    "food=int(input(\"enter the food rating\"))\n",
    "service=int(input(\"enter the service rating\"))\n",
    "ambience =int(input(\"enter the ambience rating\"))\n",
    "if((food==4)or(food==5)):\n",
    "    if((service==(4 or 5))and(ambience==(4 or 5))):\n",
    "        print(\"the tip is\",bill*(10/100))\n",
    "    else:\n",
    "        print(\"the tip is\",bill*(5/100))\n",
    "if((food==1)or(food==2)or(food==3)):\n",
    "    if((service==(4 or 5))and(ambience==(4 or 5))):\n",
    "        print(\"the tip is\",bill*(5/100))\n",
    "    else:\n",
    "        print(\"the tip is\",bill*(1/100))\n",
    "    \n",
    "\n",
    "\n"
   ]
  },
  {
   "cell_type": "code",
   "execution_count": 7,
   "id": "1004035e",
   "metadata": {},
   "outputs": [
    {
     "name": "stdout",
     "output_type": "stream",
     "text": [
      "Enter a year: 2004\n",
      "2004 is a leap year.\n"
     ]
    }
   ],
   "source": [
    "def is_leap_year(year):\n",
    "    if year % 400 == 0:\n",
    "        return True\n",
    "    elif year % 100 == 0:\n",
    "        return False\n",
    "    elif year % 4 == 0:\n",
    "        return True\n",
    "    else:\n",
    "        return False\n",
    "\n",
    "year = int(input(\"Enter a year: \"))\n",
    "\n",
    "if (is_leap_year(year)):\n",
    "    print(year, \"is a leap year.\")\n",
    "else:\n",
    "    print(year, \"is not a leap year.\")"
   ]
  },
  {
   "cell_type": "code",
   "execution_count": 8,
   "id": "9e05067c",
   "metadata": {},
   "outputs": [
    {
     "name": "stdout",
     "output_type": "stream",
     "text": [
      "enter start 2\n",
      "enter ending part10\n",
      "even= 5\n",
      "odd= 4\n"
     ]
    }
   ],
   "source": [
    "start=int(input(\"enter start \"))\n",
    "end=int(input(\"enter ending part\"))\n",
    "even=0\n",
    "odd=0\n",
    "for i in range (start,end+1):\n",
    "    if(i%2==0):\n",
    "        even=even+1\n",
    "    else:\n",
    "        odd=odd+1\n",
    "print(\"even=\",even)\n",
    "print( \"odd=\",odd)\n"
   ]
  },
  {
   "cell_type": "markdown",
   "id": "8142611e",
   "metadata": {},
   "source": [
    "Write a program to display the factors of a given number.\n",
    "Sample Input\n",
    "56\n",
    "Sample output\n",
    "1, 2, 4, 7, 8, 14, 28, 56"
   ]
  },
  {
   "cell_type": "code",
   "execution_count": 9,
   "id": "f72eab1b",
   "metadata": {},
   "outputs": [
    {
     "name": "stdout",
     "output_type": "stream",
     "text": [
      "enter no.56\n",
      "The factors of 56 are:\n",
      "1\n",
      "2\n",
      "4\n",
      "7\n",
      "8\n",
      "14\n",
      "28\n",
      "56\n"
     ]
    }
   ],
   "source": [
    "x=int(input(\"enter no.\"))\n",
    "print(\"The factors of\",x,\"are:\")\n",
    "for i in range(1, x + 1):\n",
    "       if x % i == 0:\n",
    "           print(i)\n"
   ]
  },
  {
   "cell_type": "markdown",
   "id": "44519ee3",
   "metadata": {},
   "source": [
    "Write a program to display the prime in the given range.\n",
    "Sample Input\n",
    "1\n",
    "10\n",
    "Sample Output\n",
    "2 , 3 , 5 , 7"
   ]
  },
  {
   "cell_type": "code",
   "execution_count": 10,
   "id": "f903c6c6",
   "metadata": {},
   "outputs": [
    {
     "name": "stdout",
     "output_type": "stream",
     "text": [
      "Enter the min : 1\n",
      "Enter the max : 10\n",
      "2\n",
      "3\n",
      "5\n",
      "7\n"
     ]
    }
   ],
   "source": [
    "min = int(input(\"Enter the min : \"))\n",
    "max = int(input(\"Enter the max : \"))\n",
    "for n in range(min,max + 1):\n",
    "   if n > 1:\n",
    "       for i in range(2,n):\n",
    "           if (n % i) == 0:\n",
    "               break\n",
    "       else:\n",
    "           print(n)\n"
   ]
  },
  {
   "cell_type": "markdown",
   "id": "71a4ccce",
   "metadata": {},
   "source": [
    "Write a program to display the multiplication table as below\n",
    "Sample Input\n",
    "5\n",
    "Sample Output\n",
    "5 * 1 = 5\n",
    "5 * 2 = 10\n",
    ".\n",
    ".\n",
    "5 * 10 = 50"
   ]
  },
  {
   "cell_type": "code",
   "execution_count": 11,
   "id": "cffecdd7",
   "metadata": {},
   "outputs": [
    {
     "name": "stdout",
     "output_type": "stream",
     "text": [
      "enter the number5\n",
      "5 * 1 = 5\n",
      "5 * 2 = 10\n",
      "5 * 3 = 15\n",
      "5 * 4 = 20\n",
      "5 * 5 = 25\n",
      "5 * 6 = 30\n",
      "5 * 7 = 35\n",
      "5 * 8 = 40\n",
      "5 * 9 = 45\n",
      "5 * 10 = 50\n"
     ]
    }
   ],
   "source": [
    "n=int(input(\"enter the number\"))\n",
    "for i in range (1,10+1):\n",
    "    print(n,\"*\",i,\"=\",n*i)"
   ]
  },
  {
   "cell_type": "markdown",
   "id": "3a4dffab",
   "metadata": {},
   "source": [
    "Write a program to display the multiplication table as below with a given range\n",
    "Sample Input\n",
    "Start Table : 5\n",
    "End Table: 8\n",
    "Sample Output\n",
    "5 * 1 = 5 6 * 1 = 6 7 *1 = 7 8*1 = 8\n",
    "5 * 2 = 10 6*2 = 12 7*2=14 8*2= 16\n",
    ".\n",
    ".\n",
    "5 * 10 = 50"
   ]
  },
  {
   "cell_type": "code",
   "execution_count": 15,
   "id": "8779de59",
   "metadata": {},
   "outputs": [
    {
     "name": "stdout",
     "output_type": "stream",
     "text": [
      "enter the starting table:5\n",
      "enter the ending table:8\n",
      "5 * 1 = 5\n",
      "6 * 1 = 6\n",
      "7 * 1 = 7\n",
      "8 * 1 = 8\n",
      "5 * 2 = 10\n",
      "6 * 2 = 12\n",
      "7 * 2 = 14\n",
      "8 * 2 = 16\n",
      "5 * 3 = 15\n",
      "6 * 3 = 18\n",
      "7 * 3 = 21\n",
      "8 * 3 = 24\n",
      "5 * 4 = 20\n",
      "6 * 4 = 24\n",
      "7 * 4 = 28\n",
      "8 * 4 = 32\n",
      "5 * 5 = 25\n",
      "6 * 5 = 30\n",
      "7 * 5 = 35\n",
      "8 * 5 = 40\n",
      "5 * 6 = 30\n",
      "6 * 6 = 36\n",
      "7 * 6 = 42\n",
      "8 * 6 = 48\n",
      "5 * 7 = 35\n",
      "6 * 7 = 42\n",
      "7 * 7 = 49\n",
      "8 * 7 = 56\n",
      "5 * 8 = 40\n",
      "6 * 8 = 48\n",
      "7 * 8 = 56\n",
      "8 * 8 = 64\n",
      "5 * 9 = 45\n",
      "6 * 9 = 54\n",
      "7 * 9 = 63\n",
      "8 * 9 = 72\n",
      "5 * 10 = 50\n",
      "6 * 10 = 60\n",
      "7 * 10 = 70\n",
      "8 * 10 = 80\n"
     ]
    }
   ],
   "source": [
    "starttable=int(input(\"enter the starting table:\"))\n",
    "endtable=int(input(\"enter the ending table:\"))\n",
    "for  i in range (1,10+1):\n",
    "    for j in range (starttable,endtable+1):\n",
    "        print(j,\"*\",i,\"=\",i*j)"
   ]
  },
  {
   "cell_type": "markdown",
   "id": "6acc38c9",
   "metadata": {},
   "source": [
    "Write a program to display the multiplication table as below with a given range\n",
    "Sample Input\n",
    "Start Table : 5\n",
    "End Table: 8\n",
    "Sample Output:\n",
    "5*1 = 5\n",
    ".\n",
    ".\n",
    "5 * 5 = 25\n",
    "6*1 = 6\n",
    ".\n",
    ".\n",
    ".\n",
    "6*6=36\n",
    "7*1=7\n",
    ".\n",
    ".\n",
    ".\n",
    "7*7=49\n",
    "8*1=8\n",
    ".\n",
    ".\n",
    "8*8=64"
   ]
  },
  {
   "cell_type": "code",
   "execution_count": 13,
   "id": "ae458ac0",
   "metadata": {},
   "outputs": [
    {
     "name": "stdout",
     "output_type": "stream",
     "text": [
      "enter the start point:5\n",
      "enter the end point:8\n",
      "5 * 1 = 5\n",
      "5 * 2 = 10\n",
      "5 * 3 = 15\n",
      "5 * 4 = 20\n",
      "5 * 5 = 25\n",
      "6 * 1 = 6\n",
      "6 * 2 = 12\n",
      "6 * 3 = 18\n",
      "6 * 4 = 24\n",
      "6 * 5 = 30\n",
      "6 * 6 = 36\n",
      "7 * 1 = 7\n",
      "7 * 2 = 14\n",
      "7 * 3 = 21\n",
      "7 * 4 = 28\n",
      "7 * 5 = 35\n",
      "7 * 6 = 42\n",
      "7 * 7 = 49\n",
      "8 * 1 = 8\n",
      "8 * 2 = 16\n",
      "8 * 3 = 24\n",
      "8 * 4 = 32\n",
      "8 * 5 = 40\n",
      "8 * 6 = 48\n",
      "8 * 7 = 56\n",
      "8 * 8 = 64\n"
     ]
    }
   ],
   "source": [
    "start=int(input(\"enter the start point:\"))\n",
    "end=int(input(\"enter the end point:\"))\n",
    "for i in range (start,end+1):\n",
    "    for j in range(1,i+1):\n",
    "        print(i,\"*\",j,\"=\",i*j)"
   ]
  },
  {
   "cell_type": "markdown",
   "id": "0ae89ad2",
   "metadata": {},
   "source": [
    "Write a program that displays a temperature conversion table for degrees Celsius\n",
    "and degrees Fahrenheit. The table should include rows for all temperatures\n",
    "between 0 and 100 degrees Celsius that are multiples of 10 degrees Celsius.\n",
    "Include appropriate headings on your columns. The formula for converting\n",
    "between degrees Celsius and degrees Fahrenheit\n",
    "Sample Output\n",
    "Celsius Fahrenheit\n",
    "0 32.0\n",
    "10 50.0\n",
    "20 68.0\n",
    "30 86.0\n",
    "40 104.0\n",
    "50 122.0\n",
    "60 140.0\n",
    "70 158.0\n",
    "50 176.0\n",
    "90 194.0\n",
    "100 212.0\n"
   ]
  },
  {
   "cell_type": "markdown",
   "id": "0bf10c19",
   "metadata": {},
   "source": [
    "# "
   ]
  }
 ],
 "metadata": {
  "kernelspec": {
   "display_name": "Python 3 (ipykernel)",
   "language": "python",
   "name": "python3"
  },
  "language_info": {
   "codemirror_mode": {
    "name": "ipython",
    "version": 3
   },
   "file_extension": ".py",
   "mimetype": "text/x-python",
   "name": "python",
   "nbconvert_exporter": "python",
   "pygments_lexer": "ipython3",
   "version": "3.10.9"
  }
 },
 "nbformat": 4,
 "nbformat_minor": 5
}
