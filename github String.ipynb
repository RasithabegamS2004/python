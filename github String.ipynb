{
 "cells": [
  {
   "cell_type": "code",
   "execution_count": 2,
   "id": "ac436dc9",
   "metadata": {},
   "outputs": [
    {
     "name": "stdout",
     "output_type": "stream",
     "text": [
      "Enter a string:RASITHA\n",
      "Result RAHA\n"
     ]
    }
   ],
   "source": [
    "a=input(\"Enter a string:\")\n",
    "if len(a)<2:\n",
    "  result=''\n",
    "else:\n",
    "  result=a[:2]+a[-2:]\n",
    "\n",
    "print (\"Result\",result)"
   ]
  },
  {
   "cell_type": "code",
   "execution_count": 3,
   "id": "806e3005",
   "metadata": {},
   "outputs": [
    {
     "name": "stdout",
     "output_type": "stream",
     "text": [
      "Output: Dike Mice\n"
     ]
    }
   ],
   "source": [
    "def swap_and_combine_strings(str1, str2):\n",
    "    # Swap the first two characters of each string\n",
    "    swapped_str1 = str2[:2] + str1[2:]\n",
    "    swapped_str2 = str1[:2] + str2[2:]\n",
    "\n",
    "    # Combine the swapped strings with a space in between\n",
    "    combined_string = swapped_str1 + ' ' + swapped_str2\n",
    "\n",
    "    return combined_string\n",
    "\n",
    "\n",
    "# Test the function with sample input\n",
    "string1 = \"Mike\"\n",
    "string2 = \"Dice\"\n",
    "\n",
    "result = swap_and_combine_strings(string1, string2)\n",
    "print(\"Output:\", result)\n"
   ]
  },
  {
   "cell_type": "code",
   "execution_count": 4,
   "id": "471e82d9",
   "metadata": {},
   "outputs": [
    {
     "name": "stdout",
     "output_type": "stream",
     "text": [
      "Enter a sentence: I am a student\n",
      "Longest word: student\n",
      "Length of the longest word: 7\n"
     ]
    }
   ],
   "source": [
    "def find_longest_word(sentence):\n",
    "    words = sentence.split()  # Split the sentence into words\n",
    "\n",
    "    longest_word = ''\n",
    "    longest_length = 0\n",
    "\n",
    "    for word in words:\n",
    "        if len(word) > longest_length:\n",
    "            longest_word = word\n",
    "            longest_length = len(word)\n",
    "\n",
    "    return longest_word, longest_length\n",
    "\n",
    "\n",
    "# Test the function\n",
    "sentence = input(\"Enter a sentence: \")\n",
    "\n",
    "result_word, result_length = find_longest_word(sentence)\n",
    "print(\"Longest word:\", result_word)\n",
    "print(\"Length of the longest word:\", result_length)\n"
   ]
  },
  {
   "cell_type": "code",
   "execution_count": 5,
   "id": "fcd5941f",
   "metadata": {},
   "outputs": [
    {
     "name": "stdout",
     "output_type": "stream",
     "text": [
      "Enter a string: Rasitha\n",
      "Output: 7\n"
     ]
    }
   ],
   "source": [
    "'''Write a Python function which finds the length of the string, if the length of the\n",
    "string is multiple of 5, reverse the string and capitalize all the characters.'''\n",
    "def transform_string(string):\n",
    "    length = len(string)\n",
    "\n",
    "    if length % 5 == 0:\n",
    "        reversed_string = string[::-1]  # Reverse the string\n",
    "        transformed_string = reversed_string.upper()  # Capitalize all characters\n",
    "        return transformed_string\n",
    "\n",
    "    return length\n",
    "\n",
    "\n",
    "# Test the function\n",
    "string = input(\"Enter a string: \")\n",
    "\n",
    "result = transform_string(string)\n",
    "print(\"Output:\", result)\n"
   ]
  },
  {
   "cell_type": "code",
   "execution_count": 6,
   "id": "cc7de8ea",
   "metadata": {},
   "outputs": [
    {
     "name": "stdout",
     "output_type": "stream",
     "text": [
      "Enter the email id: 22cs135@kpriet.ac.in\n",
      "Username - 22cs135\n",
      "Password - 22cs135531SC22\n"
     ]
    }
   ],
   "source": [
    "def generate_password(email):\n",
    "    # Extract the username from the email ID\n",
    "    username = email.split('@')[0]\n",
    "\n",
    "    # Generate the password by combining the username with its reverse in uppercase\n",
    "    password = username + username[::-1].upper()\n",
    "\n",
    "    return password\n",
    "\n",
    "\n",
    "# Read the email ID from the user\n",
    "email_id = input(\"Enter the email id: \")\n",
    "\n",
    "# Generate the password\n",
    "password = generate_password(email_id)\n",
    "\n",
    "# Display the username and password\n",
    "print(\"Username -\", email_id.split('@')[0])\n",
    "print(\"Password -\", password)\n"
   ]
  },
  {
   "cell_type": "code",
   "execution_count": null,
   "id": "4afb2788",
   "metadata": {},
   "outputs": [],
   "source": []
  }
 ],
 "metadata": {
  "kernelspec": {
   "display_name": "Python 3 (ipykernel)",
   "language": "python",
   "name": "python3"
  },
  "language_info": {
   "codemirror_mode": {
    "name": "ipython",
    "version": 3
   },
   "file_extension": ".py",
   "mimetype": "text/x-python",
   "name": "python",
   "nbconvert_exporter": "python",
   "pygments_lexer": "ipython3",
   "version": "3.10.9"
  }
 },
 "nbformat": 4,
 "nbformat_minor": 5
}
