{
 "cells": [
  {
   "cell_type": "markdown",
   "id": "82715099",
   "metadata": {},
   "source": [
    "1. Write a program to find fibonacci using a dictionary concept.(create function)\n",
    "Sample Input: 10\n",
    "Sample Output: 55\n"
   ]
  },
  {
   "cell_type": "code",
   "execution_count": 1,
   "id": "de4210a6",
   "metadata": {},
   "outputs": [
    {
     "name": "stdout",
     "output_type": "stream",
     "text": [
      "Enter a number: 10\n",
      "Fibonacci number at position 10 : 55\n"
     ]
    }
   ],
   "source": [
    "def fibonacci_dict(n):\n",
    "    fib_dict = {}\n",
    "    \n",
    "    def fibonacci(n):\n",
    "        if n <= 1:\n",
    "            return n\n",
    "        \n",
    "        if n in fib_dict:\n",
    "            return fib_dict[n]\n",
    "        \n",
    "        fib_dict[n] = fibonacci(n - 1) + fibonacci(n - 2)\n",
    "        return fib_dict[n]\n",
    "    \n",
    "    return fibonacci(n)\n",
    "\n",
    "# Get the input number from the user\n",
    "n = int(input(\"Enter a number: \"))\n",
    "\n",
    "# Call the function to calculate the Fibonacci number\n",
    "fibonacci_number = fibonacci_dict(n)\n",
    "\n",
    "# Print the result\n",
    "print(\"Fibonacci number at position\", n, \":\", fibonacci_number)\n"
   ]
  },
  {
   "cell_type": "markdown",
   "id": "c8f30df6",
   "metadata": {},
   "source": [
    "Write a program that inverts a dictionary. I.e., it makes key of one dictionary value of\n",
    "another and vice versa\n",
    "Sample Input:\n",
    "Dict={‘Reg.No”:123, ‘Name’:’abc’,Course’:’CSE’}\n",
    "Sample Output:\n",
    "Inv Dict={123:’Reg.No’, ‘abc’ : ‘Name’, ‘CSE’: ‘Course’}"
   ]
  },
  {
   "cell_type": "code",
   "execution_count": 2,
   "id": "fbb546df",
   "metadata": {},
   "outputs": [
    {
     "name": "stdout",
     "output_type": "stream",
     "text": [
      "Inverted Dictionary: {123: 'Reg.No', 'abc': 'Name', 'CSE': 'Course'}\n"
     ]
    }
   ],
   "source": [
    "def invert_dictionary(dictionary):\n",
    "    inverted_dict = {value: key for key, value in dictionary.items()}\n",
    "    return inverted_dict\n",
    "\n",
    "# Given dictionary\n",
    "dictionary = {'Reg.No': 123, 'Name': 'abc', 'Course': 'CSE'}\n",
    "\n",
    "# Call the function to invert the dictionary\n",
    "inverted_dictionary = invert_dictionary(dictionary)\n",
    "\n",
    "# Print the result\n",
    "print(\"Inverted Dictionary:\", inverted_dictionary)\n"
   ]
  },
  {
   "cell_type": "markdown",
   "id": "52f6eca7",
   "metadata": {},
   "source": [
    "Given the dictionary that contains Key as “Cricketer Name”, and Value as dictionary\n",
    "of {Total Runs Conceded and Wickets} taken by 6 different players,\n",
    "Cricketer = {”VinayKumar”:{102,5},Yuzvendra Chahal : {89,10},Sandeep Sharma :\n",
    "{95,8}, Umesh Yadav : {85,6}, “BhuvaneswarKumar”:{106,10}, Basil Thampi : {70,5}}\n",
    "calculate the average bowling using below Formula\n",
    "Bowling Average = Total Runs Conceded / Total Wickets Taken\n",
    "Replace the key values with the calculated Bowling Average.\n",
    "Then sort the dictionary based on the Bowling Average.\n",
    "Output\n",
    "must be sorted based on the the value\n",
    "{”VinayKumar”:{20.4},Umesh Yadav : {14.6}, Basil Thampi : {14}, Sandeep Sharma :\n",
    "{11.85}, “BhuvaneswarKumar”:{10.6}, Yuzvendra Chahal : {8.9}}\n",
    "Sorted() function syntax to sort the value based on the key\n",
    "sorted_dict = sorted(dictionary.items(), key=lambda x: x[1])\n",
    "1st argument - dictionary.items() returns key,value pairs of the given dictionary\n",
    "2nd argument - key parameter -> set to lambda x:x[1] refer to the value in pair\n",
    "therefore the dictionary will be sorted based on the value."
   ]
  },
  {
   "cell_type": "code",
   "execution_count": 3,
   "id": "5e34f41a",
   "metadata": {},
   "outputs": [
    {
     "name": "stdout",
     "output_type": "stream",
     "text": [
      "Sorted Dictionary based on Bowling Average: {'Yuzvendra Chahal': 8.9, 'BhuvaneswarKumar': 10.6, 'Sandeep Sharma': 11.88, 'Basil Thampi': 14.0, 'Umesh Yadav': 14.17, 'VinayKumar': 20.4}\n"
     ]
    }
   ],
   "source": [
    "def calculate_bowling_average(cricket_dict):\n",
    "    for cricketer, stats in cricket_dict.items():\n",
    "        runs_conceded, wickets = stats\n",
    "        bowling_average = runs_conceded / wickets\n",
    "        cricket_dict[cricketer] = round(bowling_average, 2)\n",
    "    sorted_dict = dict(sorted(cricket_dict.items(), key=lambda x: x[1]))\n",
    "    return sorted_dict\n",
    "\n",
    "# Given dictionary\n",
    "cricket_dict = {\n",
    "    'VinayKumar': [102, 5],\n",
    "    'Yuzvendra Chahal': [89, 10],\n",
    "    'Sandeep Sharma': [95, 8],\n",
    "    'Umesh Yadav': [85, 6],\n",
    "    'BhuvaneswarKumar': [106, 10],\n",
    "    'Basil Thampi': [70, 5]\n",
    "}\n",
    "\n",
    "# Call the function to calculate the bowling average and sort the dictionary\n",
    "sorted_dict = calculate_bowling_average(cricket_dict)\n",
    "\n",
    "# Print the result\n",
    "print(\"Sorted Dictionary based on Bowling Average:\", sorted_dict)\n"
   ]
  },
  {
   "cell_type": "code",
   "execution_count": null,
   "id": "e7bf94fe",
   "metadata": {},
   "outputs": [],
   "source": []
  }
 ],
 "metadata": {
  "kernelspec": {
   "display_name": "Python 3 (ipykernel)",
   "language": "python",
   "name": "python3"
  },
  "language_info": {
   "codemirror_mode": {
    "name": "ipython",
    "version": 3
   },
   "file_extension": ".py",
   "mimetype": "text/x-python",
   "name": "python",
   "nbconvert_exporter": "python",
   "pygments_lexer": "ipython3",
   "version": "3.10.9"
  }
 },
 "nbformat": 4,
 "nbformat_minor": 5
}
