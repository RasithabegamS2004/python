{
 "cells": [
  {
   "cell_type": "code",
   "execution_count": 1,
   "id": "89fb8267",
   "metadata": {},
   "outputs": [
    {
     "name": "stdout",
     "output_type": "stream",
     "text": [
      "Enter the number of integers: 5\n",
      "Enter integer 1: 12\n",
      "Enter integer 2: 32\n",
      "Enter integer 3: 62\n",
      "Enter integer 4: 66\n",
      "Enter integer 5: 98\n",
      "Even numbers: [12, 32, 62, 66, 98]\n",
      "Odd numbers: []\n"
     ]
    }
   ],
   "source": [
    "def separate_even_odd(numbers):\n",
    "    even_numbers = []\n",
    "    odd_numbers = []\n",
    "\n",
    "    for num in numbers:\n",
    "        if num % 2 == 0:\n",
    "            even_numbers.append(num)\n",
    "        else:\n",
    "            odd_numbers.append(num)\n",
    "\n",
    "    return even_numbers, odd_numbers\n",
    "\n",
    "\n",
    "# Read the number of integers from the user\n",
    "n = int(input(\"Enter the number of integers: \"))\n",
    "\n",
    "# Read the integers from the user\n",
    "numbers = []\n",
    "for i in range(n):\n",
    "    num = int(input(f\"Enter integer {i+1}: \"))\n",
    "    numbers.append(num)\n",
    "\n",
    "# Generate separate lists for even and odd numbers\n",
    "even_nums, odd_nums = separate_even_odd(numbers)\n",
    "\n",
    "# Display the separate lists\n",
    "print(\"Even numbers:\", even_nums)\n",
    "print(\"Odd numbers:\", odd_nums)\n"
   ]
  },
  {
   "cell_type": "code",
   "execution_count": 3,
   "id": "f816a6f5",
   "metadata": {},
   "outputs": [
    {
     "name": "stdout",
     "output_type": "stream",
     "text": [
      "Enter number 1: 6\n",
      "Enter number 2: 9\n",
      "Enter number 3: 5\n",
      "Enter number 4: 1\n",
      "Enter number 5: 2\n",
      "Factorial list: [720, 362880, 120, 1, 2]\n"
     ]
    }
   ],
   "source": [
    "def factorial(num):\n",
    "    fact = 1\n",
    "    for i in range(1, num + 1):\n",
    "        fact *= i\n",
    "    return fact\n",
    "\n",
    "\n",
    "def calculate_factorials(numbers):\n",
    "    factorials = []\n",
    "    for num in numbers:\n",
    "        fact = factorial(num)\n",
    "        factorials.append(fact)\n",
    "    return factorials\n",
    "\n",
    "\n",
    "# Read the list of numbers from the user\n",
    "numbers = []\n",
    "for i in range(5):\n",
    "    num = int(input(f\"Enter number {i+1}: \"))\n",
    "    numbers.append(num)\n",
    "\n",
    "# Calculate the factorials of the numbers\n",
    "factorial_list = calculate_factorials(numbers)\n",
    "\n",
    "# Display the factorial list\n",
    "print(\"Factorial list:\", factorial_list)\n"
   ]
  },
  {
   "cell_type": "code",
   "execution_count": 4,
   "id": "13230697",
   "metadata": {},
   "outputs": [
    {
     "name": "stdout",
     "output_type": "stream",
     "text": [
      "Enter an integer (enter 0 to stop): 5\n",
      "Enter an integer (enter 0 to stop): 6\n",
      "Enter an integer (enter 0 to stop): 9\n",
      "Enter an integer (enter 0 to stop): 7\n",
      "Enter an integer (enter 0 to stop): 0\n",
      "Sorted list of numbers: [5, 6, 7, 9]\n"
     ]
    }
   ],
   "source": [
    "# Read integers from the user until 0 is entered\n",
    "numbers = []\n",
    "while True:\n",
    "    num = int(input(\"Enter an integer (enter 0 to stop): \"))\n",
    "    if num == 0:\n",
    "        break\n",
    "    numbers.append(num)\n",
    "\n",
    "# Sort the list in ascending order\n",
    "numbers.sort()\n",
    "\n",
    "# Display the sorted list\n",
    "print(\"Sorted list of numbers:\", numbers)\n"
   ]
  },
  {
   "cell_type": "code",
   "execution_count": 5,
   "id": "4d70e58c",
   "metadata": {},
   "outputs": [
    {
     "name": "stdout",
     "output_type": "stream",
     "text": [
      "Enter the string: Rasitha\n",
      "Encoded List: [82, 97, 115, 105, 116, 104, 97]\n"
     ]
    }
   ],
   "source": [
    "# Read the string from the user\n",
    "string = input(\"Enter the string: \")\n",
    "\n",
    "# Encode each character using ASCII values and store in a list\n",
    "encoded_list = []\n",
    "for char in string:\n",
    "    encoded_list.append(ord(char))\n",
    "\n",
    "# Display the encoded list\n",
    "print(\"Encoded List:\", encoded_list)\n"
   ]
  },
  {
   "cell_type": "code",
   "execution_count": 6,
   "id": "35382871",
   "metadata": {},
   "outputs": [
    {
     "name": "stdout",
     "output_type": "stream",
     "text": [
      "Enter the number of words: 4\n",
      "Enter word 1: rasitha  3\n",
      "Enter word 2: Jungkook\n",
      "Enter word 3: Taehyung\n",
      "Enter word 4: Hoseok\n",
      "Length of each word:\n",
      "Word: rasitha  3, Length: 10\n",
      "Word: Jungkook, Length: 8\n",
      "Word: Taehyung, Length: 8\n",
      "Word: Hoseok, Length: 6\n",
      "Longest word: rasitha  3\n"
     ]
    }
   ],
   "source": [
    "# Read the number of words from the user\n",
    "n = int(input(\"Enter the number of words: \"))\n",
    "\n",
    "# Read 'n' words from the user and store them in a list\n",
    "word_list = []\n",
    "for i in range(n):\n",
    "    word = input(f\"Enter word {i+1}: \")\n",
    "    word_list.append(word)\n",
    "\n",
    "# Calculate and display the length of each word\n",
    "print(\"Length of each word:\")\n",
    "for word in word_list:\n",
    "    print(f\"Word: {word}, Length: {len(word)}\")\n",
    "\n",
    "# Find and display the longest word in the list\n",
    "longest_word = max(word_list, key=len)\n",
    "print(\"Longest word:\", longest_word)\n"
   ]
  },
  {
   "cell_type": "code",
   "execution_count": 7,
   "id": "7da217c9",
   "metadata": {},
   "outputs": [
    {
     "name": "stdout",
     "output_type": "stream",
     "text": [
      "Enter the number of integers: 5\n",
      "Enter positive integer 1: 2\n",
      "Enter positive integer 2: 6\n",
      "Enter positive integer 3: 8\n",
      "Enter positive integer 4: 5\n",
      "Enter positive integer 5: 8\n",
      "True\n",
      "Number of prime numbers: 2\n"
     ]
    }
   ],
   "source": [
    "def is_prime(num):\n",
    "    if num < 2:\n",
    "        return False\n",
    "    for i in range(2, int(num ** 0.5) + 1):\n",
    "        if num % i == 0:\n",
    "            return False\n",
    "    return True\n",
    "\n",
    "\n",
    "# Read the number of integers from the user\n",
    "n = int(input(\"Enter the number of integers: \"))\n",
    "\n",
    "# Read 'n' positive integers from the user and append them to the list\n",
    "numbers = []\n",
    "for i in range(n):\n",
    "    num = int(input(f\"Enter positive integer {i+1}: \"))\n",
    "    numbers.append(num)\n",
    "\n",
    "# Check if the list contains prime numbers\n",
    "prime_numbers = [num for num in numbers if is_prime(num)]\n",
    "\n",
    "# Display the result\n",
    "if prime_numbers:\n",
    "    print(\"True\")\n",
    "    print(\"Number of prime numbers:\", len(prime_numbers))\n",
    "else:\n",
    "    print(\"False\")\n"
   ]
  },
  {
   "cell_type": "code",
   "execution_count": 8,
   "id": "acd383aa",
   "metadata": {},
   "outputs": [
    {
     "name": "stdout",
     "output_type": "stream",
     "text": [
      "Enter the elements of the list separated by spaces: 5 9 4 3 1\n",
      "New list without duplicates: ['5', '4', '9', '1', '3']\n"
     ]
    }
   ],
   "source": [
    "# Read the list of elements from the user\n",
    "elements = input(\"Enter the elements of the list separated by spaces: \").split()\n",
    "\n",
    "# Remove duplicates and generate a new list\n",
    "new_list = list(set(elements))\n",
    "\n",
    "# Display the new list without duplicates\n",
    "print(\"New list without duplicates:\", new_list)\n"
   ]
  },
  {
   "cell_type": "code",
   "execution_count": 9,
   "id": "6ef5c9f6",
   "metadata": {},
   "outputs": [
    {
     "name": "stdout",
     "output_type": "stream",
     "text": [
      "Enter the numbers of the list separated by spaces: 5 6 8 3 1 \n",
      "New list without even numbers: [5, 3, 1]\n"
     ]
    }
   ],
   "source": [
    "# Read the list of numbers from the user\n",
    "numbers = [int(num) for num in input(\"Enter the numbers of the list separated by spaces: \").split()]\n",
    "\n",
    "# Remove even numbers and generate a new list\n",
    "new_list = [num for num in numbers if num % 2 != 0]\n",
    "\n",
    "# Display the new list without even numbers\n",
    "print(\"New list without even numbers:\", new_list)\n"
   ]
  },
  {
   "cell_type": "code",
   "execution_count": 10,
   "id": "b3d603c1",
   "metadata": {},
   "outputs": [
    {
     "name": "stdout",
     "output_type": "stream",
     "text": [
      "Corrected years: ['January 2023', 'February 2023', 'March 2023', 'May 2023', 'April 2023', 'August 2023', 'September 2023', 'December 2023']\n"
     ]
    }
   ],
   "source": [
    "# List of months with incorrect years\n",
    "years = [\"January 2023\", \"February 2024\", \"March 2023\", \"May 2025\", \"April 2023\", \"August 2024\", \"September 2025\", \"December 2023\"]\n",
    "\n",
    "# Correct the year to 2023\n",
    "corrected_years = [month.replace(month[-4:], \"2023\") for month in years]\n",
    "\n",
    "# Display the corrected list\n",
    "print(\"Corrected years:\", corrected_years)\n"
   ]
  },
  {
   "cell_type": "code",
   "execution_count": null,
   "id": "3f8c1d20",
   "metadata": {},
   "outputs": [],
   "source": []
  }
 ],
 "metadata": {
  "kernelspec": {
   "display_name": "Python 3 (ipykernel)",
   "language": "python",
   "name": "python3"
  },
  "language_info": {
   "codemirror_mode": {
    "name": "ipython",
    "version": 3
   },
   "file_extension": ".py",
   "mimetype": "text/x-python",
   "name": "python",
   "nbconvert_exporter": "python",
   "pygments_lexer": "ipython3",
   "version": "3.10.9"
  }
 },
 "nbformat": 4,
 "nbformat_minor": 5
}
