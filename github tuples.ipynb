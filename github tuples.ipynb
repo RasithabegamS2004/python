{
 "cells": [
  {
   "cell_type": "markdown",
   "id": "aaae2983",
   "metadata": {},
   "source": [
    "1. Write a python program that scans an email address and forms a tuple of user name\n",
    "and domain\n",
    "Sample Input:\n",
    "22cs453@kpriet.ac.in\n",
    "Sample output:\n",
    "User name: 22cs452\n",
    "Domain name: kpriet.ac.in"
   ]
  },
  {
   "cell_type": "code",
   "execution_count": 1,
   "id": "52c1de7b",
   "metadata": {},
   "outputs": [
    {
     "name": "stdout",
     "output_type": "stream",
     "text": [
      "Enter an email address: 22cs135@kpriet.ac.in\n",
      "User name: 22cs135\n",
      "Domain name: kpriet.ac.in\n"
     ]
    }
   ],
   "source": [
    "def extract_email_components(email):\n",
    "    # Split the email address at the '@' symbol\n",
    "    username, domain = email.split('@')\n",
    "    return username, domain\n",
    "\n",
    "# Get the email address from the user\n",
    "email_address = input(\"Enter an email address: \")\n",
    "\n",
    "# Call the function to extract components\n",
    "username, domain = extract_email_components(email_address)\n",
    "\n",
    "# Print the results\n",
    "print(\"User name:\", username)\n",
    "print(\"Domain name:\", domain)\n"
   ]
  },
  {
   "cell_type": "markdown",
   "id": "a18028ed",
   "metadata": {},
   "source": [
    "Write a python program that has a list of positive and negative numbers.Make a new\n",
    "tuple that has only positive values from the list.\n",
    "Sample Input: (-20,-4,-7,6,4,8,3,-6)\n",
    "Sample Output: (6,4,8,3)"
   ]
  },
  {
   "cell_type": "code",
   "execution_count": 4,
   "id": "cd8c5dfa",
   "metadata": {},
   "outputs": [
    {
     "name": "stdout",
     "output_type": "stream",
     "text": [
      "Enter a list of numbers (comma-separated): -20,-4,-7,6,4,8,3,-6\n",
      "(6, 4, 8, 3)\n"
     ]
    }
   ],
   "source": [
    "def get_positive_numbers(numbers):\n",
    "    positive_numbers = tuple(num for num in numbers if num > 0)\n",
    "    return positive_numbers\n",
    "\n",
    "# Get the numbers from the user\n",
    "numbers = input(\"Enter a list of numbers (comma-separated): \").split(\",\")\n",
    "numbers = [int(num) for num in numbers]\n",
    "\n",
    "# Call the function to get positive numbers\n",
    "positive_tuple = get_positive_numbers(numbers)\n",
    "\n",
    "# Print the result\n",
    "print(positive_tuple)\n"
   ]
  },
  {
   "cell_type": "code",
   "execution_count": null,
   "id": "b6f2d899",
   "metadata": {},
   "outputs": [],
   "source": []
  },
  {
   "cell_type": "code",
   "execution_count": null,
   "id": "d0fdb9f8",
   "metadata": {},
   "outputs": [],
   "source": []
  }
 ],
 "metadata": {
  "kernelspec": {
   "display_name": "Python 3 (ipykernel)",
   "language": "python",
   "name": "python3"
  },
  "language_info": {
   "codemirror_mode": {
    "name": "ipython",
    "version": 3
   },
   "file_extension": ".py",
   "mimetype": "text/x-python",
   "name": "python",
   "nbconvert_exporter": "python",
   "pygments_lexer": "ipython3",
   "version": "3.10.9"
  }
 },
 "nbformat": 4,
 "nbformat_minor": 5
}
