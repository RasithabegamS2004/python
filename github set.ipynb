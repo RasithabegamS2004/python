{
 "cells": [
  {
   "cell_type": "markdown",
   "id": "14653cc6",
   "metadata": {},
   "source": [
    ". Write a program that generate a set of number that are prime numbers (1-50) and\n",
    "another set of numbers divisible by 5 (1-50),then apply union, intersection,\n",
    "difference and symmetric difference on the resultant sets"
   ]
  },
  {
   "cell_type": "code",
   "execution_count": 1,
   "id": "9f7c04be",
   "metadata": {},
   "outputs": [
    {
     "name": "stdout",
     "output_type": "stream",
     "text": [
      "Prime Numbers Set: {2, 3, 5, 37, 7, 41, 11, 43, 13, 47, 17, 19, 23, 29, 31}\n",
      "Divisible by 5 Set: {35, 5, 40, 10, 45, 15, 50, 20, 25, 30}\n",
      "Union Set: {2, 3, 5, 7, 10, 11, 13, 15, 17, 19, 20, 23, 25, 29, 30, 31, 35, 37, 40, 41, 43, 45, 47, 50}\n",
      "Intersection Set: {5}\n",
      "Difference Set: {2, 3, 37, 7, 41, 11, 43, 13, 47, 17, 19, 23, 29, 31}\n",
      "Symmetric Difference Set: {2, 3, 7, 10, 11, 13, 15, 17, 19, 20, 23, 25, 29, 30, 31, 35, 37, 40, 41, 43, 45, 47, 50}\n"
     ]
    }
   ],
   "source": [
    "def is_prime(num):\n",
    "    if num < 2:\n",
    "        return False\n",
    "    for i in range(2, int(num ** 0.5) + 1):\n",
    "        if num % i == 0:\n",
    "            return False\n",
    "    return True\n",
    "\n",
    "# Generate the set of prime numbers\n",
    "prime_set = set(num for num in range(1, 51) if is_prime(num))\n",
    "\n",
    "# Generate the set of numbers divisible by 5\n",
    "divisible_by_5_set = set(num for num in range(1, 51) if num % 5 == 0)\n",
    "\n",
    "# Perform set operations\n",
    "union_set = prime_set.union(divisible_by_5_set)\n",
    "intersection_set = prime_set.intersection(divisible_by_5_set)\n",
    "difference_set = prime_set.difference(divisible_by_5_set)\n",
    "symmetric_difference_set = prime_set.symmetric_difference(divisible_by_5_set)\n",
    "\n",
    "# Print the results\n",
    "print(\"Prime Numbers Set:\", prime_set)\n",
    "print(\"Divisible by 5 Set:\", divisible_by_5_set)\n",
    "print(\"Union Set:\", union_set)\n",
    "print(\"Intersection Set:\", intersection_set)\n",
    "print(\"Difference Set:\", difference_set)\n",
    "print(\"Symmetric Difference Set:\", symmetric_difference_set)\n"
   ]
  },
  {
   "cell_type": "markdown",
   "id": "3b7cfbbb",
   "metadata": {},
   "source": [
    "Write a program that generates a set of squares of numbers in the range(1-30) and\n",
    "another list generates numbers that are divisible by 3 in the range(1-30). Generate a\n",
    "newset from a square set, which should not contain the numbers that are divisible\n",
    "by 3."
   ]
  },
  {
   "cell_type": "code",
   "execution_count": 2,
   "id": "7f348a59",
   "metadata": {},
   "outputs": [
    {
     "name": "stdout",
     "output_type": "stream",
     "text": [
      "Squares Set: {256, 1, 4, 900, 9, 16, 144, 400, 529, 784, 25, 289, 36, 676, 169, 49, 441, 64, 576, 196, 324, 841, 81, 729, 225, 100, 484, 361, 625, 121}\n",
      "Divisible by 3 List: [3, 6, 9, 12, 15, 18, 21, 24, 27, 30]\n",
      "New Set (Excluding numbers divisible by 3): {256, 1, 4, 900, 16, 144, 400, 529, 784, 25, 289, 36, 676, 169, 49, 441, 64, 576, 196, 324, 841, 81, 729, 225, 100, 484, 361, 625, 121}\n"
     ]
    }
   ],
   "source": [
    "# Generate the set of squares\n",
    "squares_set = {num ** 2 for num in range(1, 31)}\n",
    "\n",
    "# Generate the list of numbers divisible by 3\n",
    "divisible_by_3_list = [num for num in range(1, 31) if num % 3 == 0]\n",
    "\n",
    "# Generate the new set excluding numbers divisible by 3\n",
    "new_set = squares_set - set(divisible_by_3_list)\n",
    "\n",
    "# Print the results\n",
    "print(\"Squares Set:\", squares_set)\n",
    "print(\"Divisible by 3 List:\", divisible_by_3_list)\n",
    "print(\"New Set (Excluding numbers divisible by 3):\", new_set)\n"
   ]
  },
  {
   "cell_type": "markdown",
   "id": "f45506c3",
   "metadata": {},
   "source": [
    "Write a Python Program to Count the Number of Vowels in a Given String Using Sets.\n",
    "Don’t use any built in string functions.\n",
    "Hint: Create a set that contains VOWELS\n"
   ]
  },
  {
   "cell_type": "code",
   "execution_count": 3,
   "id": "9f2ad1d8",
   "metadata": {},
   "outputs": [
    {
     "name": "stdout",
     "output_type": "stream",
     "text": [
      "Enter a string: Rasitha\n",
      "Number of vowels: 3\n"
     ]
    }
   ],
   "source": [
    "def count_vowels(string):\n",
    "    vowels = {'a', 'e', 'i', 'o', 'u'}\n",
    "    count = 0\n",
    "    for char in string:\n",
    "        if char.lower() in vowels:\n",
    "            count += 1\n",
    "    return count\n",
    "\n",
    "# Get the input string from the user\n",
    "input_string = input(\"Enter a string: \")\n",
    "\n",
    "# Call the function to count vowels\n",
    "vowel_count = count_vowels(input_string)\n",
    "\n",
    "# Print the result\n",
    "print(\"Number of vowels:\", vowel_count)\n"
   ]
  },
  {
   "cell_type": "markdown",
   "id": "8c764cb8",
   "metadata": {},
   "source": [
    "Consider the given list and find the common elements of the three given lists USING\n",
    "SET.\n",
    "List1 = [10, 45, 34, 20, 11]\n",
    "List2 = [11, 25, 45, 20]\n",
    "List3 = [20, 25, 11, 14, 45, 65]\n"
   ]
  },
  {
   "cell_type": "code",
   "execution_count": 5,
   "id": "f389b2d5",
   "metadata": {},
   "outputs": [
    {
     "name": "stdout",
     "output_type": "stream",
     "text": [
      "Common elements: {11, 20, 45}\n"
     ]
    }
   ],
   "source": [
    "def find_common_elements(list1, list2, list3):\n",
    "    set1 = set(list1)\n",
    "    set2 = set(list2)\n",
    "    set3 = set(list3)\n",
    "    \n",
    "    common_elements = set1.intersection(set2, set3)\n",
    "    \n",
    "    return common_elements\n",
    "\n",
    "# Given lists\n",
    "list1 = [10, 45, 34, 20, 11]\n",
    "list2 = [11, 25, 45, 20]\n",
    "list3 = [20, 25, 11, 14, 45, 65]\n",
    "\n",
    "# Call the function to find common elements\n",
    "common_elements = find_common_elements(list1, list2, list3)\n",
    "\n",
    "# Print the result\n",
    "print(\"Common elements:\", common_elements)\n"
   ]
  },
  {
   "cell_type": "code",
   "execution_count": null,
   "id": "1fa12138",
   "metadata": {},
   "outputs": [],
   "source": []
  }
 ],
 "metadata": {
  "kernelspec": {
   "display_name": "Python 3 (ipykernel)",
   "language": "python",
   "name": "python3"
  },
  "language_info": {
   "codemirror_mode": {
    "name": "ipython",
    "version": 3
   },
   "file_extension": ".py",
   "mimetype": "text/x-python",
   "name": "python",
   "nbconvert_exporter": "python",
   "pygments_lexer": "ipython3",
   "version": "3.10.9"
  }
 },
 "nbformat": 4,
 "nbformat_minor": 5
}
